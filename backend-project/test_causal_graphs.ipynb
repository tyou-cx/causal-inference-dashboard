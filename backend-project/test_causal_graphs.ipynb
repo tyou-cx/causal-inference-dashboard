{
 "cells": [
  {
   "cell_type": "markdown",
   "id": "efff0220-788c-43c4-b7e4-7fc422e87d22",
   "metadata": {},
   "source": [
    "## Compute Causal Effects from Data According to Graph: Run Cell Below"
   ]
  },
  {
   "cell_type": "code",
   "execution_count": null,
   "id": "d67b94e6-e61c-4abf-9d8c-6f4f752d01f1",
   "metadata": {},
   "outputs": [],
   "source": [
    "from Graphs import CausalGraph, CausalNode, CausalEdge, GroupedCausalGraph, GroupedCausalNode, GroupedCausalEdge\n",
    "import pandas as pd\n",
    "import numpy as np\n",
    "from causal_inference import compute_causal_effect\n",
    "\n",
    "grouped_graph = GroupedCausalGraph()\n",
    "\n",
    "# Create Grouped Nodes\n",
    "grouped_graph.add_node('1&2')\n",
    "grouped_graph.add_node('3')\n",
    "grouped_graph.add_node('4')\n",
    "grouped_graph.add_node('static',dynamic=False)\n",
    "\n",
    "# Add Edges\n",
    "grouped_graph.add_edge('static','1&2')\n",
    "grouped_graph.add_edge('static','3')\n",
    "grouped_graph.add_edge('static','4')\n",
    "\n",
    "grouped_graph.add_edge('1&2','3',time_to_effect={'min':1,'max':2})\n",
    "grouped_graph.add_edge('1&2','4',time_to_effect={'min':1,'max':3})\n",
    "grouped_graph.add_edge('3','4',time_to_effect={'min':2,'max':2})\n",
    "\n",
    "# Create Causal Graphs\n",
    "grouped_graph.getNode('1&2').graph.add_node('X1')\n",
    "grouped_graph.getNode('1&2').graph.add_node('X2')\n",
    "grouped_graph.getNode('3').graph.add_node('X3')\n",
    "grouped_graph.getNode('4').graph.add_node('X4')\n",
    "grouped_graph.getNode('static').graph.add_node('age')\n",
    "grouped_graph.getNode('static').graph.add_node('sex')\n",
    "\n",
    "\n",
    "# Load Data\n",
    "data = pd.read_csv('simple_data.csv')\n",
    "\n",
    "# Compute Causal Effects\n",
    "causal_result = compute_causal_effect(data, causal_graph=grouped_graph,\n",
    "                              cause_variable='X3',response_variable='X4',\n",
    "                              delta_t_values=np.arange(1,10),\n",
    "                              intervention_values=np.linspace(-1,2,6))\n",
    "print(causal_result)"
   ]
  },
  {
   "cell_type": "markdown",
   "id": "8e60731a-7f77-42eb-b05f-fbf0c2cd9f25",
   "metadata": {},
   "source": [
    "## More Causal Graph Tests Below (Unrelated)"
   ]
  },
  {
   "cell_type": "code",
   "execution_count": 7,
   "id": "cb217211-c30d-4be3-92af-05d4be189eb4",
   "metadata": {},
   "outputs": [
    {
     "name": "stdout",
     "output_type": "stream",
     "text": [
      "[GroupA --[1,1]--> GroupB    (dynamic -> dynamic), GroupC --[2,3]--> GroupB    (dynamic -> dynamic)]\n",
      "[]\n",
      "[]\n",
      "[GroupA, GroupC]\n",
      "[GroupA]\n"
     ]
    }
   ],
   "source": [
    "grouped_graph = GroupedCausalGraph()\n",
    "grouped_graph.add_node(node=\"GroupA\")\n",
    "grouped_graph.add_node(node=\"GroupB\")\n",
    "grouped_graph.add_node(node=\"GroupC\")\n",
    "grouped_graph.add_edge(from_node=\"GroupA\",to_node=\"GroupB\", time_to_effect={'min':1,'max':1})\n",
    "grouped_graph.add_edge(from_node=\"GroupC\",to_node=\"GroupB\", time_to_effect={'min':2,'max':3})\n",
    "grouped_graph.add_edge(from_node=\"GroupA\",to_node=\"GroupC\", time_to_effect={'min':3,'max':4})\n",
    "\n",
    "print(grouped_graph.getIncomingEdges(grouped_graph.getNode(\"GroupB\")))\n",
    "print(grouped_graph.getOutgoingEdges(grouped_graph.getNode(\"GroupB\")))\n",
    "\n",
    "print(grouped_graph.getParents(grouped_graph.getNode(\"GroupA\")))\n",
    "print(grouped_graph.getParents(grouped_graph.getNode(\"GroupB\")))\n",
    "print(grouped_graph.getParents(grouped_graph.getNode(\"GroupC\")))"
   ]
  },
  {
   "cell_type": "code",
   "execution_count": 8,
   "id": "334124d7-96d2-4cc2-a75d-de35ab75dd99",
   "metadata": {},
   "outputs": [
    {
     "name": "stdout",
     "output_type": "stream",
     "text": [
      "[cat (dynamic)]\n",
      "[]\n",
      "[zebra (dynamic), cat (dynamic), dog (dynamic), parrot (dynamic), horse (dynamic)]\n",
      "[cat (dynamic), dog (dynamic), parrot (dynamic)]\n"
     ]
    }
   ],
   "source": [
    "groupA = CausalGraph(parent=grouped_graph.getNode(\"GroupA\"))\n",
    "groupA.add_node(\"cat\")\n",
    "groupA.add_node(\"dog\")\n",
    "groupA.add_node(\"parrot\")\n",
    "groupA.add_edge(\"cat\",\"dog\", time_to_effect={'min':1,'max':2})\n",
    "\n",
    "groupB = CausalGraph(parent=grouped_graph.getNode(\"GroupB\"))\n",
    "groupB.add_node(\"zebra\")\n",
    "groupB.add_node(\"fish\")\n",
    "groupB.add_edge(\"zebra\",\"fish\", time_to_effect={'min':2,'max':2})\n",
    "\n",
    "groupC = CausalGraph(parent=grouped_graph.getNode(\"GroupC\"))\n",
    "groupC.add_node(\"horse\")\n",
    "\n",
    "grouped_graph.getNode(\"GroupA\").graph = groupA\n",
    "grouped_graph.getNode(\"GroupB\").graph = groupB\n",
    "grouped_graph.getNode(\"GroupC\").graph = groupC\n",
    "\n",
    "print(grouped_graph.getParents(groupA.getNode(\"dog\")))\n",
    "print(grouped_graph.getParents(groupA.getNode(\"cat\")))\n",
    "print(grouped_graph.getParents(groupB.getNode(\"fish\")))\n",
    "print(grouped_graph.getParents(groupC.getNode(\"horse\")))"
   ]
  },
  {
   "cell_type": "code",
   "execution_count": 10,
   "id": "682967eb-d6f8-4b6c-9db2-7b2f2b0d1edd",
   "metadata": {},
   "outputs": [
    {
     "name": "stdout",
     "output_type": "stream",
     "text": [
      "([], [cat (dynamic), dog (dynamic), parrot (dynamic), zebra (dynamic), fish (dynamic), horse (dynamic)])\n",
      "['horse_tm2', 'horse_tm3']\n",
      "zebra (dynamic)\n"
     ]
    }
   ],
   "source": [
    "print(grouped_graph.getStaticDynamicNodes())\n",
    "print(grouped_graph.getTemporalCopiesOfParent(groupC.getNode(\"horse\"),groupB.getNode(\"fish\")))\n",
    "print(grouped_graph.getFlattenedNode('zebra'))"
   ]
  },
  {
   "cell_type": "code",
   "execution_count": null,
   "id": "dd354162-6908-4eac-8ded-482893218b59",
   "metadata": {},
   "outputs": [],
   "source": []
  }
 ],
 "metadata": {
  "interpreter": {
   "hash": "aac2754fe2dafd0f43fabe1da77107ebfbd65031bce57882f5a1070f230f1098"
  },
  "kernelspec": {
   "display_name": "Python 3 (ipykernel)",
   "language": "python",
   "name": "python3"
  },
  "language_info": {
   "codemirror_mode": {
    "name": "ipython",
    "version": 3
   },
   "file_extension": ".py",
   "mimetype": "text/x-python",
   "name": "python",
   "nbconvert_exporter": "python",
   "pygments_lexer": "ipython3",
   "version": "3.10.0"
  }
 },
 "nbformat": 4,
 "nbformat_minor": 5
}
